{
  "metadata": {
    "kernelspec": {
      "name": "python",
      "display_name": "Pyolite",
      "language": "python"
    },
    "language_info": {
      "codemirror_mode": {
        "name": "python",
        "version": 3
      },
      "file_extension": ".py",
      "mimetype": "text/x-python",
      "name": "python",
      "nbconvert_exporter": "python",
      "pygments_lexer": "ipython3",
      "version": "3.8"
    }
  },
  "nbformat_minor": 4,
  "nbformat": 4,
  "cells": [
    {
      "cell_type": "markdown",
      "source": "\"My Jupyter Notebook on IBM Watson Studio\"",
      "metadata": {}
    },
    {
      "cell_type": "markdown",
      "source": "EZE OWUNNA",
      "metadata": {}
    },
    {
      "cell_type": "markdown",
      "source": "Public health officer",
      "metadata": {}
    },
    {
      "cell_type": "markdown",
      "source": "I am interested in data science because I want to be able to mine and analyze health data.",
      "metadata": {}
    },
    {
      "cell_type": "markdown",
      "source": "A code is a wrtten instruction or text to be executed by a computer, made out in a programming language.",
      "metadata": {}
    },
    {
      "cell_type": "code",
      "source": "10+30-20",
      "metadata": {
        "trusted": true
      },
      "execution_count": 3,
      "outputs": [
        {
          "execution_count": 3,
          "output_type": "execute_result",
          "data": {
            "text/plain": "20"
          },
          "metadata": {}
        }
      ]
    },
    {
      "cell_type": "markdown",
      "source": "1. 20, 30, 40, 5\n2+3+4\n\"Markdown is used\"",
      "metadata": {}
    }
  ]
}